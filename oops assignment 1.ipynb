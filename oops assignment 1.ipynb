{
 "cells": [
  {
   "cell_type": "markdown",
   "id": "4d0f059f-0bf6-4bf2-b4b6-3f329bff233d",
   "metadata": {},
   "source": [
    "### Q1. Explain Class and Object with respect to Object-Oriented Programming. Give a suitable example."
   ]
  },
  {
   "cell_type": "code",
   "execution_count": 1,
   "id": "7f1607a8-194e-45a7-a4b7-b86cd623b39c",
   "metadata": {},
   "outputs": [],
   "source": [
    "# In object-oriented programming (OOP), a class is a blueprint or a template for creating objects, while an object is an instance of a class. A class defines the common attributes (data) and behaviors (methods) that objects of that class will possess."
   ]
  },
  {
   "cell_type": "code",
   "execution_count": 2,
   "id": "f43cafd8-8290-499b-9672-264059a5ab84",
   "metadata": {},
   "outputs": [],
   "source": [
    "class car :\n",
    "    def __init__(self, brand , colour):\n",
    "        self.brand = brand\n",
    "        self.colour = colour\n",
    "        \n",
    "    def start_engine(self):\n",
    "        print(f\"the {self.brand} {self.colour} car's engine is started\")\n",
    "        \n",
    "    def stop_engine(self):\n",
    "        print(f\"{self.brand} {self.colour} car's engine is stoped\")"
   ]
  },
  {
   "cell_type": "code",
   "execution_count": 3,
   "id": "4cac7aa5-3004-4230-8c02-9f5f63357b31",
   "metadata": {},
   "outputs": [],
   "source": [
    "my_car = car(\"maruti\",\"white\")"
   ]
  },
  {
   "cell_type": "code",
   "execution_count": 8,
   "id": "5461a911-e57e-4e83-be53-0c0581e020f6",
   "metadata": {},
   "outputs": [
    {
     "data": {
      "text/plain": [
       "<__main__.car at 0x7f51c0512500>"
      ]
     },
     "execution_count": 8,
     "metadata": {},
     "output_type": "execute_result"
    }
   ],
   "source": [
    "my_car"
   ]
  },
  {
   "cell_type": "code",
   "execution_count": 9,
   "id": "15f98d57-3159-4b1b-a3a7-9dc4a84310d7",
   "metadata": {},
   "outputs": [
    {
     "data": {
      "text/plain": [
       "'maruti'"
      ]
     },
     "execution_count": 9,
     "metadata": {},
     "output_type": "execute_result"
    }
   ],
   "source": [
    "my_car.brand"
   ]
  },
  {
   "cell_type": "code",
   "execution_count": 10,
   "id": "5268336f-9887-4630-962d-83f5801a6ce5",
   "metadata": {},
   "outputs": [
    {
     "data": {
      "text/plain": [
       "'white'"
      ]
     },
     "execution_count": 10,
     "metadata": {},
     "output_type": "execute_result"
    }
   ],
   "source": [
    "my_car.colour"
   ]
  },
  {
   "cell_type": "code",
   "execution_count": 11,
   "id": "c3baf5e4-0c0f-4a60-ae4c-295407f32208",
   "metadata": {},
   "outputs": [
    {
     "name": "stdout",
     "output_type": "stream",
     "text": [
      "the maruti white car's engine is started\n"
     ]
    }
   ],
   "source": [
    "my_car.start_engine()"
   ]
  },
  {
   "cell_type": "code",
   "execution_count": 12,
   "id": "be0d32c5-11a6-4216-a0c4-3dd631e2c324",
   "metadata": {},
   "outputs": [
    {
     "name": "stdout",
     "output_type": "stream",
     "text": [
      "maruti white car's engine is stoped\n"
     ]
    }
   ],
   "source": [
    "my_car.stop_engine()"
   ]
  },
  {
   "cell_type": "markdown",
   "id": "2a9b596b-8db8-4be7-94aa-e6873914e4c2",
   "metadata": {},
   "source": [
    "### Q2. Name the four pillars of OOPs."
   ]
  },
  {
   "cell_type": "code",
   "execution_count": 13,
   "id": "5f903cdf-d55c-431b-bce8-49de9903279e",
   "metadata": {},
   "outputs": [],
   "source": [
    "# the four pillars of oops are\n",
    "#1  Encapsulation\n",
    "#2  Inheritance\n",
    "#3  Polymorphism\n",
    "#4  Abstraction"
   ]
  },
  {
   "cell_type": "markdown",
   "id": "6990254e-f6f3-425c-9738-2fe50d111780",
   "metadata": {},
   "source": [
    "### Q3. Explain why the __init__() function is used. Give a suitable example."
   ]
  },
  {
   "cell_type": "code",
   "execution_count": 14,
   "id": "f693e409-e228-4196-8228-f8f5ab228b82",
   "metadata": {},
   "outputs": [],
   "source": [
    "#The __init__() function is a special method (constructor) in Python that is automatically called when an object is created from a class. It is used to initialize the attributes of the object and perform any necessary setup or configuration."
   ]
  },
  {
   "cell_type": "code",
   "execution_count": 19,
   "id": "7e07780c-32cf-408b-9cf5-fc6b1de64630",
   "metadata": {},
   "outputs": [],
   "source": [
    "class Person:\n",
    "    def __init__(self, name, age):\n",
    "        self.name = name\n",
    "        self.age = age\n",
    "\n",
    "    def introduce(self):\n",
    "        print(f\"My name is {self.name} and I am {self.age} years old.\")\n",
    "\n",
    "person1 = Person(\"Aakarsh\", 20)\n",
    "person2 = Person(\"Aditya\", 19)"
   ]
  },
  {
   "cell_type": "code",
   "execution_count": 20,
   "id": "2f928cd0-c982-4d00-8f5a-a8c323b702cd",
   "metadata": {},
   "outputs": [
    {
     "name": "stdout",
     "output_type": "stream",
     "text": [
      "My name is Aakarsh and I am 20 years old.\n"
     ]
    }
   ],
   "source": [
    "person1.introduce()"
   ]
  },
  {
   "cell_type": "code",
   "execution_count": 21,
   "id": "9e646940-52ec-4761-a355-12158d684a22",
   "metadata": {},
   "outputs": [
    {
     "name": "stdout",
     "output_type": "stream",
     "text": [
      "My name is Aditya and I am 19 years old.\n"
     ]
    }
   ],
   "source": [
    "person2.introduce()"
   ]
  },
  {
   "cell_type": "markdown",
   "id": "e65b3c8b-40e2-4721-b246-01d15a1be012",
   "metadata": {},
   "source": [
    "### Q4. Why self is used in OOPs?"
   ]
  },
  {
   "cell_type": "code",
   "execution_count": 22,
   "id": "326d4b31-ccff-42ae-8325-efc25a7fc5ca",
   "metadata": {},
   "outputs": [],
   "source": [
    "#In object-oriented programming (OOP), the self parameter is used as a convention to refer to the instance of a class. It represents the object that the method is being called on. The use of self allows you to access and manipulate the attributes and methods of the object within the class."
   ]
  },
  {
   "cell_type": "markdown",
   "id": "813ead41-2fe9-4388-b5a8-78ee7d49ddd8",
   "metadata": {},
   "source": [
    "### Q5. What is inheritance? Give an example for each type of inheritance."
   ]
  },
  {
   "cell_type": "code",
   "execution_count": 23,
   "id": "31831e84-3701-4baa-a117-3a062afc1abc",
   "metadata": {},
   "outputs": [],
   "source": [
    "#Inheritance is a fundamental concept in object-oriented programming (OOP) that allows new classes to be created based on existing classes. It enables code reuse and promotes the concept of hierarchical classification, where derived classes inherit attributes and methods from their parent (base) classes. Inheritance establishes an \"is-a\" relationship between classes, indicating that a derived class is a specialized form of the base class."
   ]
  },
  {
   "cell_type": "code",
   "execution_count": 24,
   "id": "3a9275c5-c6a5-4e8b-a54c-0f810b631910",
   "metadata": {},
   "outputs": [],
   "source": [
    "# single inheritance\n",
    "\n",
    "class Animal:\n",
    "    def eat(self):\n",
    "        print(\"Animal is eating\")\n",
    "        \n",
    "class Dog(Animal):\n",
    "    def bark(self):\n",
    "        print(\"Dog is barking\")"
   ]
  },
  {
   "cell_type": "code",
   "execution_count": 25,
   "id": "eccf646b-e3e9-495e-91dc-db351ce646d4",
   "metadata": {},
   "outputs": [],
   "source": [
    "dog = Dog()"
   ]
  },
  {
   "cell_type": "code",
   "execution_count": 27,
   "id": "086ca9ad-d42a-4f68-80a4-cc7652e462af",
   "metadata": {},
   "outputs": [
    {
     "name": "stdout",
     "output_type": "stream",
     "text": [
      "Animal is eating\n"
     ]
    }
   ],
   "source": [
    "dog.eat()"
   ]
  },
  {
   "cell_type": "code",
   "execution_count": 29,
   "id": "5db5436b-d071-4a0e-93eb-004fb8980b10",
   "metadata": {},
   "outputs": [
    {
     "name": "stdout",
     "output_type": "stream",
     "text": [
      "Dog is barking\n"
     ]
    }
   ],
   "source": [
    "dog.bark()"
   ]
  },
  {
   "cell_type": "code",
   "execution_count": 36,
   "id": "efe919a6-0a0d-44b7-a638-dad19665a3aa",
   "metadata": {},
   "outputs": [],
   "source": [
    "# multiple inheritance\n",
    "class Vehicle:\n",
    "    def drive(self):\n",
    "        print(\"Vehicle is being driven...\")\n",
    "\n"
   ]
  },
  {
   "cell_type": "code",
   "execution_count": 37,
   "id": "fb491583-c8d6-4cb9-bd50-2d5ff55d479c",
   "metadata": {},
   "outputs": [],
   "source": [
    "class Car:\n",
    "    def park(self):\n",
    "        print(\"Car is parked...\")\n"
   ]
  },
  {
   "cell_type": "code",
   "execution_count": 40,
   "id": "f6c99269-904c-4c7d-9835-dc7e1a2c5b4f",
   "metadata": {},
   "outputs": [],
   "source": [
    "class SportsCar(Vehicle, Car):\n",
    "    def race(self):\n",
    "        print(\"Sports car is racing...\")\n"
   ]
  },
  {
   "cell_type": "code",
   "execution_count": 47,
   "id": "38d3fd04-208e-40a3-80d5-8c5c093e515c",
   "metadata": {},
   "outputs": [],
   "source": [
    "Sports_Car = SportsCar()"
   ]
  },
  {
   "cell_type": "code",
   "execution_count": 48,
   "id": "984da30a-03aa-4077-a980-c7ba0f5d60ba",
   "metadata": {},
   "outputs": [
    {
     "name": "stdout",
     "output_type": "stream",
     "text": [
      "Car is parked...\n"
     ]
    }
   ],
   "source": [
    "Sports_Car.park()"
   ]
  },
  {
   "cell_type": "code",
   "execution_count": 49,
   "id": "4d53efe4-3275-4311-9305-01d5e972ee82",
   "metadata": {},
   "outputs": [
    {
     "name": "stdout",
     "output_type": "stream",
     "text": [
      "Vehicle is being driven...\n"
     ]
    }
   ],
   "source": [
    "Sports_Car.drive()"
   ]
  },
  {
   "cell_type": "code",
   "execution_count": 50,
   "id": "9693dc20-96c1-43ea-a088-95b468b347a8",
   "metadata": {},
   "outputs": [
    {
     "name": "stdout",
     "output_type": "stream",
     "text": [
      "Sports car is racing...\n"
     ]
    }
   ],
   "source": [
    "Sports_Car.race()"
   ]
  },
  {
   "cell_type": "code",
   "execution_count": 51,
   "id": "aa4d4ceb-3531-46e7-9651-4ff5b8eff57b",
   "metadata": {},
   "outputs": [],
   "source": [
    "#multilevel inheritance\n",
    "\n",
    "class Animal:\n",
    "    \n",
    "    def eat(self):\n",
    "        return \"Animal is eating\""
   ]
  },
  {
   "cell_type": "code",
   "execution_count": 52,
   "id": "98f313d6-12b1-4a89-91ba-86f7ddf3f1bc",
   "metadata": {},
   "outputs": [],
   "source": [
    "class Mammal(Animal):\n",
    "    def sleep(self):\n",
    "        print(\"Mammal is sleeping\")"
   ]
  },
  {
   "cell_type": "code",
   "execution_count": 53,
   "id": "783018c6-605a-4ecc-bce9-121de1a78d5a",
   "metadata": {},
   "outputs": [],
   "source": [
    "class Dog(Mammal):\n",
    "    def bark(self):\n",
    "        print(\"Dog is barking...\")"
   ]
  },
  {
   "cell_type": "code",
   "execution_count": 54,
   "id": "8a324429-f725-4eb6-b767-cb9dd3ad46dd",
   "metadata": {},
   "outputs": [],
   "source": [
    "dog = Dog()"
   ]
  },
  {
   "cell_type": "code",
   "execution_count": 56,
   "id": "3332d4f5-2fd5-4d0e-bc7c-e836ec7eec32",
   "metadata": {},
   "outputs": [
    {
     "name": "stdout",
     "output_type": "stream",
     "text": [
      "Dog is barking...\n"
     ]
    }
   ],
   "source": [
    "dog.bark()"
   ]
  },
  {
   "cell_type": "code",
   "execution_count": 57,
   "id": "f5cc455c-b554-414e-a5f2-d840c680cdac",
   "metadata": {},
   "outputs": [
    {
     "data": {
      "text/plain": [
       "'Animal is eating'"
      ]
     },
     "execution_count": 57,
     "metadata": {},
     "output_type": "execute_result"
    }
   ],
   "source": [
    "dog.eat()"
   ]
  },
  {
   "cell_type": "code",
   "execution_count": 58,
   "id": "e39e4017-9056-403f-8408-964336eb0ddf",
   "metadata": {},
   "outputs": [
    {
     "name": "stdout",
     "output_type": "stream",
     "text": [
      "Mammal is sleeping\n"
     ]
    }
   ],
   "source": [
    "dog.sleep()"
   ]
  },
  {
   "cell_type": "code",
   "execution_count": null,
   "id": "086a3159-3bf9-4859-b1d6-fa40cf003174",
   "metadata": {},
   "outputs": [],
   "source": []
  }
 ],
 "metadata": {
  "kernelspec": {
   "display_name": "Python 3 (ipykernel)",
   "language": "python",
   "name": "python3"
  },
  "language_info": {
   "codemirror_mode": {
    "name": "ipython",
    "version": 3
   },
   "file_extension": ".py",
   "mimetype": "text/x-python",
   "name": "python",
   "nbconvert_exporter": "python",
   "pygments_lexer": "ipython3",
   "version": "3.10.8"
  }
 },
 "nbformat": 4,
 "nbformat_minor": 5
}
